{
 "cells": [
  {
   "cell_type": "code",
   "execution_count": 9,
   "metadata": {},
   "outputs": [
    {
     "data": {
      "text/plain": [
       "'e:\\\\MyPython\\\\PythonDojo\\\\data_analysis\\\\pyecharts_hub\\\\bar_chart.html'"
      ]
     },
     "execution_count": 9,
     "metadata": {},
     "output_type": "execute_result"
    }
   ],
   "source": [
    "from pyecharts.charts import Bar # 导出Bar类\n",
    "from pyecharts import options as opts\n",
    "\n",
    "# 创建柱形图实例\n",
    "bar = Bar()\n",
    "bar.add_xaxis([\"衬衫\",\"羊毛衫\",\"T恤衫\",\"裤子\"])\n",
    "bar.add_yaxis(\"商家A\",[5,20,36,10])\n",
    "bar.add_yaxis(\"商家B\",[15,25,35,45])\n",
    "bar.set_global_opts(title_opts=opts.TitleOpts(title=\"柱形图示例\"))\n",
    "\n",
    "# 使用render方法生成HTML文件\n",
    "bar.render(\"bar_chart.html\")"
   ]
  },
  {
   "cell_type": "code",
   "execution_count": 11,
   "metadata": {},
   "outputs": [
    {
     "data": {
      "text/plain": [
       "'e:\\\\MyPython\\\\PythonDojo\\\\data_analysis\\\\pyecharts_hub\\\\line_chart.html'"
      ]
     },
     "execution_count": 11,
     "metadata": {},
     "output_type": "execute_result"
    }
   ],
   "source": [
    "from pyecharts.charts import Line\n",
    "\n",
    "# 创建折线图实例\n",
    "line = Line()\n",
    "line.add_xaxis([\"衬衫\",\"羊毛衫\",\"T恤衫\",\"裤子\"])\n",
    "line.add_yaxis(\"商家A\",[5,20,36,10])\n",
    "line.add_yaxis(\"商家B\",[15,25,35,45])\n",
    "line.set_global_opts(title_opts=opts.TitleOpts(title=\"折线图示例\"))\n",
    "\n",
    "# 使用render方法生成HTML文件\n",
    "line.render(\"line_chart.html\")\n",
    "\n"
   ]
  },
  {
   "cell_type": "code",
   "execution_count": 12,
   "metadata": {},
   "outputs": [
    {
     "data": {
      "text/plain": [
       "'e:\\\\MyPython\\\\PythonDojo\\\\data_analysis\\\\pyecharts_hub\\\\pie.html'"
      ]
     },
     "execution_count": 12,
     "metadata": {},
     "output_type": "execute_result"
    }
   ],
   "source": [
    "from pyecharts.charts import Pie\n",
    "\n",
    "pie = Pie()\n",
    "pie.add(\"\", [(\"A\", 55), (\"B\", 30), (\"C\", 15)])\n",
    "pie.render(\"pie.html\") \n"
   ]
  },
  {
   "cell_type": "code",
   "execution_count": 13,
   "metadata": {},
   "outputs": [
    {
     "data": {
      "text/plain": [
       "'e:\\\\MyPython\\\\PythonDojo\\\\data_analysis\\\\pyecharts_hub\\\\scatter.html'"
      ]
     },
     "execution_count": 13,
     "metadata": {},
     "output_type": "execute_result"
    }
   ],
   "source": [
    "from pyecharts.charts import Scatter\n",
    "\n",
    "scatter = Scatter()\n",
    "scatter.add_xaxis([1, 2, 3])\n",
    "scatter.add_yaxis(\"\", [10, 20, 15])\n",
    "scatter.render(\"scatter.html\")\n"
   ]
  },
  {
   "cell_type": "code",
   "execution_count": 14,
   "metadata": {},
   "outputs": [
    {
     "data": {
      "text/plain": [
       "'e:\\\\MyPython\\\\PythonDojo\\\\data_analysis\\\\pyecharts_hub\\\\map.html'"
      ]
     },
     "execution_count": 14,
     "metadata": {},
     "output_type": "execute_result"
    }
   ],
   "source": [
    "from pyecharts.charts import Map\n",
    "\n",
    "map = Map()\n",
    "map.add(\"\", [(\"中国\", 100), (\"美国\", 80)], \"world\")\n",
    "map.render(\"map.html\")\n"
   ]
  },
  {
   "cell_type": "code",
   "execution_count": 15,
   "metadata": {},
   "outputs": [
    {
     "data": {
      "text/plain": [
       "'e:\\\\MyPython\\\\PythonDojo\\\\data_analysis\\\\pyecharts_hub\\\\3d.html'"
      ]
     },
     "execution_count": 15,
     "metadata": {},
     "output_type": "execute_result"
    }
   ],
   "source": [
    "from pyecharts.charts import Bar3D\n",
    "\n",
    "data = [[1, 2, 3], [4, 5, 6]]\n",
    "bar3d = Bar3D()\n",
    "bar3d.add(\"\", data)\n",
    "bar3d.render(\"3d.html\")\n"
   ]
  }
 ],
 "metadata": {
  "kernelspec": {
   "display_name": ".venv",
   "language": "python",
   "name": "python3"
  },
  "language_info": {
   "codemirror_mode": {
    "name": "ipython",
    "version": 3
   },
   "file_extension": ".py",
   "mimetype": "text/x-python",
   "name": "python",
   "nbconvert_exporter": "python",
   "pygments_lexer": "ipython3",
   "version": "3.12.10"
  }
 },
 "nbformat": 4,
 "nbformat_minor": 2
}
