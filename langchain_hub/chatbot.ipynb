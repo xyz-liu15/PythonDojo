{
 "cells": [
  {
   "cell_type": "code",
   "execution_count": 1,
   "id": "d54efc7a-5619-45d8-9465-397a7e880862",
   "metadata": {},
   "outputs": [],
   "source": [
    "from langchain_deepseek import ChatDeepSeek\n",
    "from langchain_core.prompts import ChatPromptTemplate\n",
    "from langchain_core.output_parsers import StrOutputParser\n",
    "from dotenv import load_dotenv\n",
    "from langchain_core.messages import HumanMessage, SystemMessage"
   ]
  },
  {
   "cell_type": "code",
   "execution_count": 2,
   "id": "bf2023a0-08d9-4b27-8871-369bafdb834f",
   "metadata": {},
   "outputs": [
    {
     "data": {
      "text/plain": [
       "True"
      ]
     },
     "execution_count": 2,
     "metadata": {},
     "output_type": "execute_result"
    }
   ],
   "source": [
    "load_dotenv()"
   ]
  },
  {
   "cell_type": "code",
   "execution_count": 3,
   "id": "cc5caa54-0cc5-4c0e-ac15-9656652ebd78",
   "metadata": {},
   "outputs": [],
   "source": [
    "model = ChatDeepSeek(\n",
    "    model = \"deepseek-chat\",\n",
    "    temperature = 0.7\n",
    ")"
   ]
  },
  {
   "cell_type": "code",
   "execution_count": 4,
   "id": "9c2e2177-68f1-453c-a252-29d8fceeff19",
   "metadata": {},
   "outputs": [],
   "source": [
    "prompt = ChatPromptTemplate([\n",
    "    SystemMessage(\"Translate the following from Chinese into English\"),\n",
    "    HumanMessage({text})\n",
    "])"
   ]
  },
  {
   "cell_type": "code",
   "execution_count": 5,
   "id": "98efab71-790e-498e-a550-4cb14e852153",
   "metadata": {},
   "outputs": [],
   "source": [
    "parser = StrOutputParser()"
   ]
  },
  {
   "cell_type": "code",
   "execution_count": 6,
   "id": "ccf93738-e195-4cd9-997d-d3796ca75498",
   "metadata": {},
   "outputs": [],
   "source": [
    "chain = prompt | model | parser"
   ]
  },
  {
   "cell_type": "code",
   "execution_count": 9,
   "id": "d7bd6b9f-ca2f-4bee-b6fe-19f10dcff56f",
   "metadata": {},
   "outputs": [
    {
     "name": "stdout",
     "output_type": "stream",
     "text": [
      "你好，欢迎来到AI世界！  \n",
      "\n",
      "（注：原文\"Hello Welcome to AI world!\"为英文，翻译成中文即如上。若需其他语言互译或调整，请进一步说明。）"
     ]
    }
   ],
   "source": [
    "async for chunk in chain.astream({\"text\" : \"欢迎来到AI世界！\"}):\n",
    "    print(chunk,end = \"\")"
   ]
  },
  {
   "cell_type": "code",
   "execution_count": null,
   "id": "77332d47-34e2-4eed-8034-7ae92f529f6b",
   "metadata": {},
   "outputs": [],
   "source": []
  }
 ],
 "metadata": {
  "kernelspec": {
   "display_name": "project",
   "language": "python",
   "name": "project"
  },
  "language_info": {
   "codemirror_mode": {
    "name": "ipython",
    "version": 3
   },
   "file_extension": ".py",
   "mimetype": "text/x-python",
   "name": "python",
   "nbconvert_exporter": "python",
   "pygments_lexer": "ipython3",
   "version": "3.12.9"
  }
 },
 "nbformat": 4,
 "nbformat_minor": 5
}
