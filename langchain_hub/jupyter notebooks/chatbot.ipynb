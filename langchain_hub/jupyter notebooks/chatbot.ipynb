{
 "cells": [
  {
   "cell_type": "code",
   "execution_count": 1,
   "id": "5da2a925-206c-4878-8985-aeed2c69f20d",
   "metadata": {},
   "outputs": [],
   "source": [
    "import os,getpass\n",
    "\n",
    "\n",
    "def get_api_key(key):\n",
    "    \"\"\"获取所需的API密钥\"\"\"\n",
    "    if not os.environ.get(key):\n",
    "        os.environ[key] = getpass.getpass(\"请输入你的API密钥：\")"
   ]
  },
  {
   "cell_type": "code",
   "execution_count": 2,
   "id": "3c47a7de-1a5c-4b5f-b8cb-dad046fd315f",
   "metadata": {},
   "outputs": [
    {
     "name": "stdin",
     "output_type": "stream",
     "text": [
      "请输入你的API密钥： ········\n",
      "请输入你的API密钥： ········\n"
     ]
    }
   ],
   "source": [
    "LANGSMITH_TRACING=\"true\"\n",
    "\n",
    "\n",
    "get_api_key(\"DEEPSEEK_API_KEY\")\n",
    "get_api_key(\"LANGSMITH_API_KEY\")"
   ]
  },
  {
   "cell_type": "code",
   "execution_count": 3,
   "id": "fc0d5806-8c7d-4f5c-b475-f10fce27b7d0",
   "metadata": {},
   "outputs": [],
   "source": [
    "from langchain_deepseek import ChatDeepSeek\n",
    "\n",
    "\n",
    "# 实例化一个大模型\n",
    "model = ChatDeepSeek(\n",
    "    model = \"deepseek-chat\",\n",
    "    temperature = 0.7\n",
    ")"
   ]
  },
  {
   "cell_type": "code",
   "execution_count": 23,
   "id": "a48eaaf7-3b6a-49e0-b3d4-bc82c89e3a60",
   "metadata": {},
   "outputs": [],
   "source": [
    "# 实现一个基本的聊天机器人工作流\n",
    "from langgraph.checkpoint.memory import MemorySaver\n",
    "from langgraph.graph import START,MessagesState,StateGraph\n",
    "\n",
    "\n",
    "# 创建工作流\n",
    "workflow = StateGraph(state_schema = MessagesState)\n",
    "\n",
    "def call_model(state):\n",
    "    response = model.invoke(state[\"messages\"])\n",
    "    return {\"messages\" : response}\n",
    "\n",
    "\n",
    "workflow.add_edge(START,\"model\")\n",
    "workflow.add_node(\"model\",call_model)\n",
    "\n",
    "\n",
    "memory = MemorySaver()\n",
    "app = workflow.compile(checkpointer = memory)"
   ]
  },
  {
   "cell_type": "code",
   "execution_count": 26,
   "id": "cd4e791b-f7c4-4e56-a4ee-0e156236f86d",
   "metadata": {},
   "outputs": [
    {
     "name": "stdout",
     "output_type": "stream",
     "text": [
      "==================================\u001b[1m Ai Message \u001b[0m==================================\n",
      "\n",
      "Hi Bob! 👋 How's it going? What can I do for you today? 😊\n"
     ]
    }
   ],
   "source": [
    "config = {\"configurable\": {\"thread_id\": \"abc123\"}}\n",
    "\n",
    "query = \"Hi! I'm Bob.\"\n",
    "\n",
    "input_messages = [HumanMessage(query)]\n",
    "output = app.invoke({\"messages\": input_messages}, config)\n",
    "output[\"messages\"][-1].pretty_print()  # output contains all messages in state"
   ]
  }
 ],
 "metadata": {
  "kernelspec": {
   "display_name": "project",
   "language": "python",
   "name": "project"
  },
  "language_info": {
   "codemirror_mode": {
    "name": "ipython",
    "version": 3
   },
   "file_extension": ".py",
   "mimetype": "text/x-python",
   "name": "python",
   "nbconvert_exporter": "python",
   "pygments_lexer": "ipython3",
   "version": "3.12.9"
  }
 },
 "nbformat": 4,
 "nbformat_minor": 5
}
