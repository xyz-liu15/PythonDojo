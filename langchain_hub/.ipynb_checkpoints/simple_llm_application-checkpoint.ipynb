{
 "cells": [
  {
   "cell_type": "code",
   "execution_count": 1,
   "id": "392c381d-6866-4ce5-aa1d-ebd386caed76",
   "metadata": {},
   "outputs": [],
   "source": [
    "import os,getpass\n",
    "\n",
    "\n",
    "os.environ[\"LANGSMITH_TRACING\"] = \"true\"\n",
    "\n",
    "def get_api_key(key):\n",
    "    \"\"\"获取API密钥\"\"\"\n",
    "    if not os.environ.get(key):\n",
    "         os.environ[key] = getpass.getpass(\"请输入你的API密钥：\")"
   ]
  },
  {
   "cell_type": "code",
   "execution_count": 2,
   "id": "13a6cf61-c62a-47a1-b245-be1d61dbb534",
   "metadata": {},
   "outputs": [],
   "source": [
    "get_api_key(\"DEEPSEEK_API_KEY\")"
   ]
  },
  {
   "cell_type": "code",
   "execution_count": 3,
   "id": "d89881c5-52cf-4b05-a236-ca89e91fd01a",
   "metadata": {},
   "outputs": [
    {
     "name": "stdin",
     "output_type": "stream",
     "text": [
      "请输入你的API密钥： ········\n"
     ]
    }
   ],
   "source": [
    "get_api_key(\"LANGSMITH_API_KEY\")"
   ]
  },
  {
   "cell_type": "code",
   "execution_count": 4,
   "id": "d54efc7a-5619-45d8-9465-397a7e880862",
   "metadata": {},
   "outputs": [],
   "source": [
    "from langchain_deepseek import ChatDeepSeek\n",
    "from langchain_core.prompts import ChatPromptTemplate\n",
    "from langchain_core.output_parsers import StrOutputParser\n",
    "from langchain_core.messages import HumanMessage, SystemMessage"
   ]
  },
  {
   "cell_type": "code",
   "execution_count": 5,
   "id": "cc5caa54-0cc5-4c0e-ac15-9656652ebd78",
   "metadata": {},
   "outputs": [],
   "source": [
    "model = ChatDeepSeek(\n",
    "    model = \"deepseek-chat\",\n",
    "    temperature = 0.7\n",
    ")"
   ]
  },
  {
   "cell_type": "code",
   "execution_count": 7,
   "id": "9c2e2177-68f1-453c-a252-29d8fceeff19",
   "metadata": {},
   "outputs": [],
   "source": [
    "system_template = \"你是一个世界顶级的翻译大师，可以将{text}在兼顾上下文语境的情况下翻译为{language}。\"\n",
    "\n",
    "prompt = ChatPromptTemplate(\n",
    "    [(\"system\", system_template), (\"user\", \"{text}\")]\n",
    ")"
   ]
  },
  {
   "cell_type": "code",
   "execution_count": 8,
   "id": "98efab71-790e-498e-a550-4cb14e852153",
   "metadata": {},
   "outputs": [],
   "source": [
    "parser = StrOutputParser()"
   ]
  },
  {
   "cell_type": "code",
   "execution_count": 9,
   "id": "ccf93738-e195-4cd9-997d-d3796ca75498",
   "metadata": {},
   "outputs": [],
   "source": [
    "chain = prompt | model | parser"
   ]
  },
  {
   "cell_type": "code",
   "execution_count": 13,
   "id": "d7bd6b9f-ca2f-4bee-b6fe-19f10dcff56f",
   "metadata": {},
   "outputs": [
    {
     "name": "stdout",
     "output_type": "stream",
     "text": [
      "Welcome to the world of AI!  \n",
      "\n",
      "（注：这里采用\"world of AI\"的表述既保持了原文的简洁有力，又符合英文科技语境中常见的表达方式。惊叹号保留了原文的热情语气，整体翻译在技术准确性和情感传达上达到了平衡。如果是更正式的科技场景，也可译为\"Welcome to the Artificial Intelligence realm\"，但当前版本更普适且富有感染力。）"
     ]
    }
   ],
   "source": [
    "async for chunk in chain.astream({\"text\" : \"欢迎来到AI世界！\",\"language\" : \"English\"}):\n",
    "    print(chunk,end = \"\",flush=True)"
   ]
  },
  {
   "cell_type": "code",
   "execution_count": null,
   "id": "1ec79fa3-90e4-493a-a874-03d0934d66e3",
   "metadata": {},
   "outputs": [],
   "source": []
  }
 ],
 "metadata": {
  "kernelspec": {
   "display_name": "project",
   "language": "python",
   "name": "project"
  },
  "language_info": {
   "codemirror_mode": {
    "name": "ipython",
    "version": 3
   },
   "file_extension": ".py",
   "mimetype": "text/x-python",
   "name": "python",
   "nbconvert_exporter": "python",
   "pygments_lexer": "ipython3",
   "version": "3.12.9"
  }
 },
 "nbformat": 4,
 "nbformat_minor": 5
}
